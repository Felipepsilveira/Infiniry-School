{
 "cells": [
  {
   "cell_type": "markdown",
   "metadata": {},
   "source": [
    "Algoritmo para calcular o IMC do usuário. \n"
   ]
  },
  {
   "cell_type": "code",
   "execution_count": 2,
   "metadata": {},
   "outputs": [
    {
     "name": "stdout",
     "output_type": "stream",
     "text": [
      "seu IMC é:  24.489795918367346\n"
     ]
    }
   ],
   "source": [
    "peso = float(input(\"informe o peso\"))\n",
    "altura = float(input(\"informe a altura\"))\n",
    "\n",
    "print (\"seu IMC é: \", (peso / (altura * altura)))"
   ]
  },
  {
   "cell_type": "markdown",
   "metadata": {},
   "source": [
    "Transformar uma temperatura de Fahrenheit para Celsius"
   ]
  },
  {
   "cell_type": "code",
   "execution_count": 15,
   "metadata": {},
   "outputs": [
    {
     "name": "stdout",
     "output_type": "stream",
     "text": [
      "A temperatura em Celsius é:  26.666666666666668\n"
     ]
    }
   ],
   "source": [
    "TempF = float(input(\"Informe a temperatura em Fahrenheit\"))\n",
    "\n",
    "print (\"A temperatura em Celsius é: \", (TempF - 32) * (5/9))\n",
    "\n",
    "#TempC = (TempF - 32) * (5/9)\n",
    "\n",
    "#print (\"A temperatura em Celsius é: \", TempC)"
   ]
  },
  {
   "cell_type": "markdown",
   "metadata": {},
   "source": [
    "Escreva um algoritmo para ler as dimensões de um retângulo (base e altura), calcular e escrever a área do retângulo (base*altura).\n"
   ]
  },
  {
   "cell_type": "code",
   "execution_count": 7,
   "metadata": {},
   "outputs": [
    {
     "name": "stdout",
     "output_type": "stream",
     "text": [
      "A área do retângulo é:  200.0\n"
     ]
    }
   ],
   "source": [
    "Base = float(input(\"Informe a base do retângulo\"))\n",
    "Altura = float(input(\"Informe a Altura do retângulo\"))\n",
    "\n",
    "print (\"A área do retângulo é: \", Base * Altura)"
   ]
  },
  {
   "cell_type": "markdown",
   "metadata": {},
   "source": [
    "Escreva um algoritmo para ler o número total de eleitores de um município, o número de votos brancos, nulos e válidos. Calcular e escrever o percentual que cada um representa em relação ao total de eleitores."
   ]
  },
  {
   "cell_type": "code",
   "execution_count": 22,
   "metadata": {},
   "outputs": [
    {
     "name": "stdout",
     "output_type": "stream",
     "text": [
      "A porcentagem de votos válidos foi:  20.0 %\n",
      "A porcentagem de votos nulos foi:  5.0 %\n",
      "A porcentagem de votos válidos foi:  75.0 %\n"
     ]
    }
   ],
   "source": [
    "Eleitores = int(input(\"Informe o número de eleitores\"))\n",
    "V_validos = int(input(\"Informe o número de votos válidos\"))\n",
    "V_nulos = int(input(\"Informe o número de votos nulos\"))\n",
    "V_brancos = int(input(\"Informe o número de votos brancos\"))\n",
    "\n",
    "print (\"A porcentagem de votos válidos foi: \", V_validos / (Eleitores / 100) ,\"%\")\n",
    "print (\"A porcentagem de votos nulos foi: \", V_nulos / (Eleitores / 100) ,\"%\")\n",
    "print (\"A porcentagem de votos brancos foi: \", V_brancos / (Eleitores / 100) ,\"%\")"
   ]
  },
  {
   "cell_type": "markdown",
   "metadata": {},
   "source": [
    "Escreva um algoritmo que armazene o valor 10 em uma variável A e o valor 20 em uma variável B. A seguir (utilizando apenas atribuições entre variáveis) troque os seus conteúdos fazendo com que o valor que está em A passe para B e vice-versa. Ao final, escrever os valores que ficaram armazenados nas variáveis."
   ]
  },
  {
   "cell_type": "code",
   "execution_count": 1,
   "metadata": {},
   "outputs": [
    {
     "name": "stdout",
     "output_type": "stream",
     "text": [
      "A:  20 B:  10\n"
     ]
    }
   ],
   "source": [
    "A = 10\n",
    "B = 20\n",
    "\n",
    "A = 20\n",
    "B = 10\n",
    "\n",
    "print (\"A: \", A, \"B: \", B)\n"
   ]
  },
  {
   "cell_type": "markdown",
   "metadata": {},
   "source": [
    "Faça um programa que leia 3 notas, e calcule a média. Em seguida exibir a mensagem “aprovado” caso a média do aluno seja maior que 6 ou recuperação caso a nota seja abaixo.\n"
   ]
  },
  {
   "cell_type": "code",
   "execution_count": 6,
   "metadata": {},
   "outputs": [
    {
     "name": "stdout",
     "output_type": "stream",
     "text": [
      "Sua média foi:  6.666666666666667\n",
      "Aluno Aprovado!\n"
     ]
    }
   ],
   "source": [
    "Nota1 = float(input(\"Informe a primeira nota: \"))\n",
    "Nota2 = float(input(\"Informe a segunda nota: \"))\n",
    "Nota3 = float(input(\"Informe a terçeira nota: \"))\n",
    "\n",
    "media = (Nota1 + Nota2 + Nota3) / 3\n",
    "\n",
    "if media >= 6:\n",
    "    print (\"Sua média foi: \", media)\n",
    "    print (\"Aluno Aprovado!\")\n",
    "else:\n",
    "    print (\"Sua média foi: \", media)\n",
    "    print (\"Aluno Reprovado!, Precisa fazer Recuperação!\")"
   ]
  },
  {
   "cell_type": "markdown",
   "metadata": {},
   "source": [
    "Escreva um programa que leia um número e informe se o mesmo é positivo ou negativo\n",
    "\n"
   ]
  },
  {
   "cell_type": "code",
   "execution_count": 11,
   "metadata": {},
   "outputs": [
    {
     "name": "stdout",
     "output_type": "stream",
     "text": [
      "Numero Positivo\n"
     ]
    }
   ],
   "source": [
    "num = float(input(\"Informe um número\"))\n",
    "\n",
    "if num > 0:\n",
    "    print(\"Numero Positivo\")\n",
    "elif num == 0:\n",
    "    print(\"Numero Zero\")\n",
    "else:\n",
    "    print(\"Numero Negativo\")"
   ]
  },
  {
   "cell_type": "markdown",
   "metadata": {},
   "source": [
    "Faça um algoritmo que converta a temperatura de Fahrenheit para célsius e diga se estar frio ou quente: Se a temperatura for abaixo de 25, informar que esta frio.\n",
    "\n",
    "c = (f - 32) / 1.8 .\n"
   ]
  },
  {
   "cell_type": "code",
   "execution_count": 12,
   "metadata": {},
   "outputs": [
    {
     "name": "stdout",
     "output_type": "stream",
     "text": [
      "15.555555555555557 graus Celsius, está frio!\n"
     ]
    }
   ],
   "source": [
    "TempF = float(input(\"Informe a temperatura em Fahrenheit\"))\n",
    "\n",
    "TempC = (TempF - 32) * (5/9)\n",
    "\n",
    "if TempC < 25:\n",
    "    print (TempC,\"graus Celsius, está frio!\")\n",
    "elif TempC >= 25:\n",
    "    print (TempC,\"graus Celsius, está quente!\")   \n",
    "\n"
   ]
  },
  {
   "cell_type": "markdown",
   "metadata": {},
   "source": [
    "Faça um programa que leia dois números e exiba o maior deles.\n"
   ]
  },
  {
   "cell_type": "code",
   "execution_count": 15,
   "metadata": {},
   "outputs": [
    {
     "name": "stdout",
     "output_type": "stream",
     "text": [
      "1.0 e 1.0 são iguais\n"
     ]
    }
   ],
   "source": [
    "n1 = float(input(\"Informe um número\"))\n",
    "n2 = float(input(\"Informe outro número\"))\n",
    "\n",
    "if n1 > n2:\n",
    "    print (n1,\"é maior que \", n2)\n",
    "elif n2 > n1:\n",
    "    print (n2,\"é maior que\", n1)\n",
    "else:\n",
    "    print (n1,\"e\",n2,\"são iguais\")"
   ]
  },
  {
   "cell_type": "markdown",
   "metadata": {},
   "source": [
    "Faça um programa que leia um número e informe se ele é par ou ímpar.\n"
   ]
  },
  {
   "cell_type": "code",
   "execution_count": 25,
   "metadata": {},
   "outputs": [
    {
     "name": "stdout",
     "output_type": "stream",
     "text": [
      "0.0 é par!\n"
     ]
    }
   ],
   "source": [
    "n1 = float(input(\"informe um número\"))\n",
    "\n",
    "if (n1 % 2) == 0:\n",
    "    print (n1,\"é par!\")\n",
    "else:\n",
    "    print (n1,\"é impar!\")\n"
   ]
  },
  {
   "cell_type": "markdown",
   "metadata": {},
   "source": [
    "Crie um programa que leia o salário de um vendedor e o valor total de vendas no mês. \n",
    "\n",
    "Se o valor de vendas no mês do funcionário for maior que 5000, ele terá um aumento de 20% no valor final de seu salário.\n",
    "\n",
    "Ao final do programa exiba o salário final do usuário na tela\n",
    "\n",
    "\n"
   ]
  },
  {
   "cell_type": "code",
   "execution_count": 28,
   "metadata": {},
   "outputs": [
    {
     "name": "stdout",
     "output_type": "stream",
     "text": [
      "parabéns vendedor, seu salário será: 6000.0\n"
     ]
    }
   ],
   "source": [
    "salario = float(input(\"informe seu salário: \"))\n",
    "vendas = int(input(\"informe o número de vendas realizadas no mês: \"))\n",
    "\n",
    "if vendas > 5000:\n",
    "    percentual = 20 * (salario/100)\n",
    "    salario = salario + percentual\n",
    "    print(\"parabéns vendedor, seu salário será:\", salario)\n",
    "else:\n",
    "    print(\"Infelizmente a meta de vendas mensal não foi atingida\")\n",
    "\n"
   ]
  }
 ],
 "metadata": {
  "kernelspec": {
   "display_name": "Python 3.10.6 64-bit (microsoft store)",
   "language": "python",
   "name": "python3"
  },
  "language_info": {
   "codemirror_mode": {
    "name": "ipython",
    "version": 3
   },
   "file_extension": ".py",
   "mimetype": "text/x-python",
   "name": "python",
   "nbconvert_exporter": "python",
   "pygments_lexer": "ipython3",
   "version": "3.10.6"
  },
  "orig_nbformat": 4,
  "vscode": {
   "interpreter": {
    "hash": "4bc68a469b01165b4f1b96ba4c74cf4cecf434f30baa6573236f805da7a5679b"
   }
  }
 },
 "nbformat": 4,
 "nbformat_minor": 2
}
