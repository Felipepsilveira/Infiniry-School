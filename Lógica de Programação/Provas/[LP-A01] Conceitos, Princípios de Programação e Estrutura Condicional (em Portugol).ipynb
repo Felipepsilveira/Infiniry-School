{
 "cells": [
  {
   "cell_type": "markdown",
   "metadata": {},
   "source": [
    "\n",
    "[LP-A01] Essa prova pode ser respondida com a linguagem de programação Python, Portugol ou Visualg.\n",
    "\n",
    "Quando estamos programando, um dos passos mais importantes é tratar adequadamente a entrada e a saída de dados, sendo assim: \n",
    "\n",
    "Faça um programa que leia o nome de uma pessoa e mostre uma mensagem de boas-vindas para ela.\n",
    "\n",
    "Exemplo:\n",
    "\n",
    "ENTRADA \n",
    "\n",
    "Rafael\n",
    "\n",
    "SAÍDA\n",
    "\n",
    "Olá Rafael, seja muito bem-vindo!"
   ]
  },
  {
   "cell_type": "code",
   "execution_count": 4,
   "metadata": {},
   "outputs": [
    {
     "name": "stdout",
     "output_type": "stream",
     "text": [
      "Seja bem vindo Felipe !\n"
     ]
    }
   ],
   "source": [
    "nome = input(\"Informe o seu nome: \")\n",
    "\n",
    "print(\"Seja bem vindo\", nome,\"!\")"
   ]
  },
  {
   "cell_type": "markdown",
   "metadata": {},
   "source": [
    "[LP-A01] Essa prova pode ser respondida com a linguagem de programação Python, Portugol ou Visualg.\n",
    "\n",
    "Quando estamos programando. alguns dos passos mais importantes são tratar adequadamente a entrada e a saída dos dados, e manipulá-los corretamente, usando por exemplo, operações aritméticas. \n",
    "\n",
    "Sendo assim, faça um programa que leia um número de ponto flutuante (Número Real) e mostre na tela o seu dobro e a sua terça parte.\n",
    "\n",
    "Exemplo:\n",
    "\n",
    "ENTRADA:\n",
    "\n",
    "Número: 2.5\n",
    "\n",
    "SAÍDA:\n",
    "\n",
    "Dobro: 5.0\n",
    "\n",
    "Terça Parte: 0,83"
   ]
  },
  {
   "cell_type": "code",
   "execution_count": 6,
   "metadata": {},
   "outputs": [
    {
     "name": "stdout",
     "output_type": "stream",
     "text": [
      "o dobro do número é:  12.0\n",
      "a terça parte do número é: 2.0\n"
     ]
    }
   ],
   "source": [
    "num = float(input(\"informe um número: \"))\n",
    "\n",
    "print (\"o dobro do número é: \", num * 2)\n",
    "\n",
    "print (\"a terça parte do número é:\", num / 3)"
   ]
  },
  {
   "cell_type": "markdown",
   "metadata": {},
   "source": [
    "O Flash, O Super Herói incrivelmente rápido da DC, tem a força de aceleração, uma energia do espaço-tempo, como fonte dos seus poderes. Para alcançar a velocidade que deseja, o Flash absorve o espaço e o tempo da força de aceleração e a transforma em velocidade. Assim o Flash pediu para que você crie um programa que calcule sua velocidade dado o espaço e o tempo.\n",
    "\n",
    "A Velocidade pode ser calculada pela fórmula:\n",
    "\n",
    "   Velocidade = Espaço / Tempo\n",
    "\n",
    "Entrada: Seu programa deve receber dois números inteiros o espaço e o tempo, respectivamente.\n",
    "\n",
    "Saída: A saída consiste em uma única linha contendo a velocidade alcançada.\n",
    "\n",
    "Exemplo:\n",
    "\n",
    "ENTRADA:\n",
    "\n",
    "Espaço: 100\n",
    "\n",
    "Tempo: 10\n",
    "\n",
    "SAÍDA:\n",
    "\n",
    "Velocidade: 10"
   ]
  },
  {
   "cell_type": "code",
   "execution_count": 8,
   "metadata": {},
   "outputs": [
    {
     "name": "stdout",
     "output_type": "stream",
     "text": [
      "A velocidade alcançada é:  10.0\n"
     ]
    }
   ],
   "source": [
    "espaco = int(input(\"Informe o espaço: \"))\n",
    "tempo = int(input(\"Informe o tempo: \"))\n",
    "\n",
    "print (\"A velocidade alcançada é: \", (espaco/tempo))"
   ]
  },
  {
   "cell_type": "markdown",
   "metadata": {},
   "source": [
    "Faça um programa para o cálculo de uma folha de pagamento, sabendo que os descontos são do imposto de renda, que depende do salário bruto (conforme tabela abaixo) e 3% para o Sindicato e que o FGTS corresponde a 11% do salário bruto, mas não é descontado (é a empresa que deposita.)\n",
    "\n",
    "O salário líquido corresponde ao salário bruto menos os descontos. O programa deverá pedir ao usuário o valor da sua hora e a quantidade de horas trabalhadas no mês.\n",
    "\n",
    "a. Desconto do IR;\n",
    "b. Salário Bruto ate R$900,00 (inclusive) – Isento;\n",
    "c. Salário Bruto de R$ 1500, 00 (inclusive) – desconto de 5%;\n",
    "d. Salario bruto até R$ 2500,00 (Inclusive) – desconto de 10%;\n",
    "e. Salário bruto acima de 2500 – Desconto de 20%.\n",
    "Imprima na tela as informações, dispostas conforme o exemplo abaixo, no exemplo valor da hora é 5 e a quantidade de horas é 220.  \n",
    "\n",
    "Salário bruto (5 * 220)   : R$   1100,00\n",
    "\n",
    "( – ) IR (5%)                     : R$      55,00\n",
    "\n",
    "( – ) INSS ( 10% )            : R$   110,00\n",
    "\n",
    "( – ) Sindicato(3%)         : R$      33,00\n",
    "\n",
    "FGTS ( 11%)                    : R$     121,00\n",
    "\n",
    "Total de descontos        : R$     198,00\n",
    "\n",
    "Salário Líquido               : R$     902,00    "
   ]
  },
  {
   "cell_type": "code",
   "execution_count": 21,
   "metadata": {},
   "outputs": [
    {
     "name": "stdout",
     "output_type": "stream",
     "text": [
      "Sálario Bruto: 1100.0 R$\n",
      "Imposto de renda:  55.0 R$\n",
      "INSS:  110.0 R$\n",
      "Sindicato:  33.0 R$\n",
      "FGTS:  121.0 R$\n",
      "Total de descontos:  198.0\n",
      "Sálario Líquido:  902.0 R$\n"
     ]
    }
   ],
   "source": [
    "\n",
    "INSS = 0\n",
    "Sindicato = 0\n",
    "FGTS = 0\n",
    "salBruto = 0\n",
    "salLiquido = 0\n",
    "\n",
    "hora = int(input(\"Informe as horas trabalhadas: \"))\n",
    "valHora = float(input(\"Informe o valor das horas trabalhadas: \"))\n",
    "\n",
    "salBruto = (hora * valHora)\n",
    "\n",
    "if salBruto <= 900:\n",
    "    IR = 0\n",
    "elif salBruto <= 1500:\n",
    "    IR = (salBruto * 0.05)\n",
    "elif salBruto <= 2500:\n",
    "    IR = (salBruto * 0.10)\n",
    "else:\n",
    "    IR = (salBruto * 0.20)\n",
    "\n",
    "INSS = salBruto * 0.10\n",
    "Sindicato = salBruto * 0.03\n",
    "FGTS = salBruto * 0.11\n",
    "salLiquido = salBruto - (IR + INSS + Sindicato)\n",
    "\n",
    "\n",
    "\n",
    "print(\"Sálario Bruto:\", salBruto,\"R$\")\n",
    "print(\"Imposto de renda: \", IR,\"R$\")\n",
    "print(\"INSS: \", INSS, \"R$\")\n",
    "print(\"Sindicato: \", Sindicato, \"R$\")\n",
    "print(\"FGTS: \", FGTS, \"R$\")\n",
    "print (\"Total de descontos: \", (IR + INSS + Sindicato) )\n",
    "print(\"Sálario Líquido: \", salLiquido, \"R$\")\n",
    "   \n",
    "    \n"
   ]
  },
  {
   "cell_type": "markdown",
   "metadata": {},
   "source": [
    "Um determinado grupo empresarial resolveu dar um aumento de salário aos seus colaboradores e, para isso, contrataram você para desenvolver um programa que calculará os reajustes.\n",
    "\n",
    "Faça um programa que recebe o salário de um colaborador, e calcule o reajuste segundo os critérios abaixo, que deverá exibis o novo salário, baseado no salário atual. \n",
    "\n",
    "Salários até R$ 280,00 (incluindo): aumento de 20%,\n",
    "Salários entre R$ 280,00 e R$700,00: aumento de 15%;\n",
    "Salários entre R$ 700,00 e R$ 1500,00: aumento de 10%;\n",
    "Salários de R$ 1500,00 em diante: aumento de 5%;\n",
    "Exemplo:\n",
    "\n",
    "ENTRADA:\n",
    "\n",
    "700.00\n",
    "\n",
    "SAÍDA:\n",
    "\n",
    "805.00"
   ]
  },
  {
   "cell_type": "code",
   "execution_count": 16,
   "metadata": {},
   "outputs": [
    {
     "name": "stdout",
     "output_type": "stream",
     "text": [
      "Seu novo salário é:  1650.0\n"
     ]
    }
   ],
   "source": [
    "sal = float(input(\"Informe o seu salário: \"))\n",
    "\n",
    "if sal <= 280:\n",
    "    sal = sal + (sal * 0.20) \n",
    "elif sal > 280 and sal <= 700:\n",
    "    sal  = sal + (sal * 0.15)\n",
    "elif sal > 700 and sal <= 1500:\n",
    "    sal  = sal + (sal * 0.10)   \n",
    "elif sal > 1500:\n",
    "    sal  = sal + (sal * 0.05)\n",
    "\n",
    "print (\"Seu novo salário é: \", sal)   \n",
    "\n"
   ]
  }
 ],
 "metadata": {
  "kernelspec": {
   "display_name": "Python 3.10.7 64-bit (microsoft store)",
   "language": "python",
   "name": "python3"
  },
  "language_info": {
   "codemirror_mode": {
    "name": "ipython",
    "version": 3
   },
   "file_extension": ".py",
   "mimetype": "text/x-python",
   "name": "python",
   "nbconvert_exporter": "python",
   "pygments_lexer": "ipython3",
   "version": "3.10.7"
  },
  "orig_nbformat": 4,
  "vscode": {
   "interpreter": {
    "hash": "191c5e2111f6f71ffba11bdabdd10d2f5104f8b09e00bef630460c281b5383c9"
   }
  }
 },
 "nbformat": 4,
 "nbformat_minor": 2
}
